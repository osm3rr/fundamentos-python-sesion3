{
 "cells": [
  {
   "cell_type": "markdown",
   "id": "49eea91b",
   "metadata": {},
   "source": [
    "# Fundamentos de python\n",
    "\n",
    "* Variables\n",
    "* Operadores matemáticos básicos\n",
    "* Operadores booleanos\n",
    "* Operadores de comparación\n",
    "* Estructuras de control\n",
    "    - Condicionales simples\n",
    "    - Condicionales compuestos\n",
    "    - Ciclos finitos\n",
    "    - Ciclos infinitos\n",
    "    - Funciones\n",
    "* Estructuras de datos\n",
    "    - Enteros\n",
    "    - Cadenas de caracteres\n",
    "    - Listas\n",
    "    - Diccionarios\n",
    "    - Tuplas\n"
   ]
  },
  {
   "cell_type": "code",
   "execution_count": 2,
   "id": "64d9df0f",
   "metadata": {},
   "outputs": [],
   "source": [
    "# variables\n",
    "name = \"John\"\n",
    "age = 30\n",
    "city = \"New York\"\n",
    "last_name = \"Doe\""
   ]
  },
  {
   "cell_type": "code",
   "execution_count": 4,
   "id": "c16a1f38",
   "metadata": {},
   "outputs": [],
   "source": [
    "# mala práctica\n",
    "Name = \"John\"\n",
    "Age = 30\n",
    "City = \"New York\"\n",
    "Last_Name = \"Doe\""
   ]
  },
  {
   "cell_type": "code",
   "execution_count": 5,
   "id": "cccc223f",
   "metadata": {},
   "outputs": [],
   "source": [
    "# mala práctica\n",
    "LastName = \"John\"\n",
    "lastName = \"Doe\""
   ]
  },
  {
   "cell_type": "code",
   "execution_count": 6,
   "id": "cf4057c3",
   "metadata": {},
   "outputs": [
    {
     "ename": "NameError",
     "evalue": "name 'Last' is not defined",
     "output_type": "error",
     "traceback": [
      "\u001b[31m---------------------------------------------------------------------------\u001b[39m",
      "\u001b[31mNameError\u001b[39m                                 Traceback (most recent call last)",
      "\u001b[36mCell\u001b[39m\u001b[36m \u001b[39m\u001b[32mIn[6]\u001b[39m\u001b[32m, line 1\u001b[39m\n\u001b[32m----> \u001b[39m\u001b[32m1\u001b[39m \u001b[43mLast\u001b[49m.Name = \u001b[33m\"\u001b[39m\u001b[33mJohn\u001b[39m\u001b[33m\"\u001b[39m\n",
      "\u001b[31mNameError\u001b[39m: name 'Last' is not defined"
     ]
    }
   ],
   "source": [
    "Last.Name = \"John\""
   ]
  },
  {
   "cell_type": "code",
   "execution_count": 7,
   "id": "224bffc8",
   "metadata": {},
   "outputs": [
    {
     "name": "stdout",
     "output_type": "stream",
     "text": [
      "John\n"
     ]
    }
   ],
   "source": [
    "print(name)"
   ]
  },
  {
   "cell_type": "code",
   "execution_count": 9,
   "id": "f6c4ab80",
   "metadata": {},
   "outputs": [],
   "source": [
    "# operdores matemáticos\n",
    "number1 = 10\n",
    "number2 = 5\n",
    "\n",
    "# Operaciones matemáticas\n",
    "sum_result = number1 + number2\n",
    "\n",
    "difference_result = number1 - number2\n",
    "\n",
    "product_result = number1 * number2\n",
    "\n",
    "division_result = number1 / number2"
   ]
  },
  {
   "cell_type": "code",
   "execution_count": 11,
   "id": "9d3785ad",
   "metadata": {},
   "outputs": [
    {
     "data": {
      "text/plain": [
       "2.0"
      ]
     },
     "execution_count": 11,
     "metadata": {},
     "output_type": "execute_result"
    }
   ],
   "source": [
    "sum_result\n",
    "difference_result\n",
    "product_result\n",
    "division_result"
   ]
  },
  {
   "cell_type": "code",
   "execution_count": 12,
   "id": "933b47db",
   "metadata": {},
   "outputs": [
    {
     "name": "stdout",
     "output_type": "stream",
     "text": [
      "Suma: 15\n",
      "Resta: 5\n",
      "Producto: 50\n",
      "División: 2.0\n"
     ]
    }
   ],
   "source": [
    "# imprime los resultados de las operaciones\n",
    "print(\"Suma:\", sum_result)\n",
    "print(\"Resta:\", difference_result)\n",
    "print(\"Producto:\", product_result)\n",
    "print(\"División:\", division_result)"
   ]
  },
  {
   "cell_type": "code",
   "execution_count": null,
   "id": "cafba5e7",
   "metadata": {},
   "outputs": [],
   "source": []
  }
 ],
 "metadata": {
  "kernelspec": {
   "display_name": ".venv",
   "language": "python",
   "name": "python3"
  },
  "language_info": {
   "codemirror_mode": {
    "name": "ipython",
    "version": 3
   },
   "file_extension": ".py",
   "mimetype": "text/x-python",
   "name": "python",
   "nbconvert_exporter": "python",
   "pygments_lexer": "ipython3",
   "version": "3.12.3"
  }
 },
 "nbformat": 4,
 "nbformat_minor": 5
}
