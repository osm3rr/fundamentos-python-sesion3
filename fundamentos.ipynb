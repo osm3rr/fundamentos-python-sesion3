{
 "cells": [
  {
   "cell_type": "markdown",
   "id": "49eea91b",
   "metadata": {},
   "source": [
    "# Fundamentos de python\n",
    "\n",
    "* Variables\n",
    "* Operadores matemáticos básicos\n",
    "* Operadores booleanos\n",
    "* Operadores de comparación\n",
    "* Estructuras de control\n",
    "    - Condicionales simples\n",
    "    - Condicionales compuestos\n",
    "    - Ciclos finitos\n",
    "    - Ciclos infinitos\n",
    "    - Funciones\n",
    "* Estructuras de datos\n",
    "    - Enteros\n",
    "    - Cadenas de caracteres\n",
    "    - Listas\n",
    "    - Diccionarios\n",
    "    - Tuplas\n"
   ]
  },
  {
   "cell_type": "code",
   "execution_count": 1,
   "id": "64d9df0f",
   "metadata": {},
   "outputs": [],
   "source": [
    "# variables\n",
    "name = \"John\"\n",
    "age = 30\n",
    "city = \"New York\"\n",
    "last_name = \"Doe\""
   ]
  },
  {
   "cell_type": "code",
   "execution_count": 2,
   "id": "c16a1f38",
   "metadata": {},
   "outputs": [],
   "source": [
    "# mala práctica\n",
    "Name = \"John\"\n",
    "Age = 30\n",
    "City = \"New York\"\n",
    "Last_Name = \"Doe\""
   ]
  },
  {
   "cell_type": "code",
   "execution_count": 3,
   "id": "cccc223f",
   "metadata": {},
   "outputs": [],
   "source": [
    "# mala práctica\n",
    "LastName = \"John\"\n",
    "lastName = \"Doe\""
   ]
  },
  {
   "cell_type": "code",
   "execution_count": 4,
   "id": "cf4057c3",
   "metadata": {},
   "outputs": [
    {
     "ename": "NameError",
     "evalue": "name 'Last' is not defined",
     "output_type": "error",
     "traceback": [
      "\u001b[31m---------------------------------------------------------------------------\u001b[39m",
      "\u001b[31mNameError\u001b[39m                                 Traceback (most recent call last)",
      "\u001b[36mCell\u001b[39m\u001b[36m \u001b[39m\u001b[32mIn[4]\u001b[39m\u001b[32m, line 1\u001b[39m\n\u001b[32m----> \u001b[39m\u001b[32m1\u001b[39m \u001b[43mLast\u001b[49m.Name = \u001b[33m\"\u001b[39m\u001b[33mJohn\u001b[39m\u001b[33m\"\u001b[39m\n",
      "\u001b[31mNameError\u001b[39m: name 'Last' is not defined"
     ]
    }
   ],
   "source": [
    "Last.Name = \"John\""
   ]
  },
  {
   "cell_type": "code",
   "execution_count": null,
   "id": "224bffc8",
   "metadata": {},
   "outputs": [
    {
     "name": "stdout",
     "output_type": "stream",
     "text": [
      "John\n"
     ]
    }
   ],
   "source": [
    "print(name)"
   ]
  },
  {
   "cell_type": "code",
   "execution_count": 5,
   "id": "f6c4ab80",
   "metadata": {},
   "outputs": [],
   "source": [
    "# operdores matemáticos\n",
    "number1 = 10\n",
    "number2 = 5\n",
    "\n",
    "# Operaciones matemáticas\n",
    "sum_result = number1 + number2\n",
    "\n",
    "difference_result = number1 - number2\n",
    "\n",
    "product_result = number1 * number2\n",
    "\n",
    "division_result = number1 / number2"
   ]
  },
  {
   "cell_type": "code",
   "execution_count": 6,
   "id": "9d3785ad",
   "metadata": {},
   "outputs": [
    {
     "data": {
      "text/plain": [
       "2.0"
      ]
     },
     "execution_count": 6,
     "metadata": {},
     "output_type": "execute_result"
    }
   ],
   "source": [
    "sum_result\n",
    "difference_result\n",
    "product_result\n",
    "division_result"
   ]
  },
  {
   "cell_type": "code",
   "execution_count": 7,
   "id": "933b47db",
   "metadata": {},
   "outputs": [
    {
     "name": "stdout",
     "output_type": "stream",
     "text": [
      "Suma: 15\n",
      "Resta: 5\n",
      "Producto: 50\n",
      "División: 2.0\n"
     ]
    }
   ],
   "source": [
    "# imprime los resultados de las operaciones\n",
    "print(\"Suma:\", sum_result)\n",
    "print(\"Resta:\", difference_result)\n",
    "print(\"Producto:\", product_result)\n",
    "print(\"División:\", division_result)"
   ]
  },
  {
   "cell_type": "markdown",
   "id": "347d3b09",
   "metadata": {},
   "source": [
    "### Operadores de comparación"
   ]
  },
  {
   "cell_type": "code",
   "execution_count": 8,
   "id": "cafba5e7",
   "metadata": {},
   "outputs": [],
   "source": [
    "# operadores de comparación\n",
    "# igualdad ==\n",
    "# desigualdad !=\n",
    "# mayor que >\n",
    "# menor que <\n",
    "# mayor o igual que >=\n",
    "# menor o igual que <=\n",
    "\n"
   ]
  },
  {
   "cell_type": "code",
   "execution_count": 9,
   "id": "2eda355d",
   "metadata": {},
   "outputs": [
    {
     "data": {
      "text/plain": [
       "False"
      ]
     },
     "execution_count": 9,
     "metadata": {},
     "output_type": "execute_result"
    }
   ],
   "source": [
    "# Comparaciones\n",
    "a = 5\n",
    "b = 10\n",
    "a == b  # Igualdad"
   ]
  },
  {
   "cell_type": "code",
   "execution_count": 10,
   "id": "2eea80ed",
   "metadata": {},
   "outputs": [
    {
     "data": {
      "text/plain": [
       "True"
      ]
     },
     "execution_count": 10,
     "metadata": {},
     "output_type": "execute_result"
    }
   ],
   "source": [
    "a != b  # Desigualdad"
   ]
  },
  {
   "cell_type": "code",
   "execution_count": 11,
   "id": "68ad73f1",
   "metadata": {},
   "outputs": [
    {
     "data": {
      "text/plain": [
       "False"
      ]
     },
     "execution_count": 11,
     "metadata": {},
     "output_type": "execute_result"
    }
   ],
   "source": [
    "a > b  # Mayor que"
   ]
  },
  {
   "cell_type": "code",
   "execution_count": 12,
   "id": "dd513980",
   "metadata": {},
   "outputs": [
    {
     "data": {
      "text/plain": [
       "True"
      ]
     },
     "execution_count": 12,
     "metadata": {},
     "output_type": "execute_result"
    }
   ],
   "source": [
    "a < b  # Menor que"
   ]
  },
  {
   "cell_type": "code",
   "execution_count": 13,
   "id": "dfd98e7d",
   "metadata": {},
   "outputs": [],
   "source": [
    "name = \"pedro\""
   ]
  },
  {
   "cell_type": "code",
   "execution_count": 14,
   "id": "fb9fbbbc",
   "metadata": {},
   "outputs": [],
   "source": [
    "# Condicional simple\n",
    "a = 5\n",
    "b = 10\n",
    "\n",
    "if a > b:\n",
    "    print(\"a es mayor que b\")"
   ]
  },
  {
   "cell_type": "code",
   "execution_count": 15,
   "id": "312b6319",
   "metadata": {},
   "outputs": [
    {
     "name": "stdout",
     "output_type": "stream",
     "text": [
      "a es menor que b\n"
     ]
    }
   ],
   "source": [
    "# Condicional simple\n",
    "a = 5\n",
    "b = 10\n",
    "\n",
    "if a < b:\n",
    "    print(\"a es menor que b\")"
   ]
  },
  {
   "cell_type": "code",
   "execution_count": 16,
   "id": "c5bc8222",
   "metadata": {},
   "outputs": [
    {
     "name": "stdout",
     "output_type": "stream",
     "text": [
      "a es menor que b y mayor que 1\n"
     ]
    }
   ],
   "source": [
    "# Condicional simple\n",
    "a = 5\n",
    "b = 10\n",
    "\n",
    "if (a < b) and (a > 1):\n",
    "    print(\"a es menor que b y mayor que 1\")"
   ]
  },
  {
   "cell_type": "code",
   "execution_count": 17,
   "id": "4cdec335",
   "metadata": {},
   "outputs": [
    {
     "name": "stdout",
     "output_type": "stream",
     "text": [
      "a no es menor que b o no es mayor que 1\n"
     ]
    }
   ],
   "source": [
    "# condicioneles compuestos\n",
    "\n",
    "# Condicional simple\n",
    "a = 0\n",
    "b = 10\n",
    "\n",
    "if (a < b) and (a > 1):\n",
    "    print(\"a es menor que b y mayor que 1\")\n",
    "else:\n",
    "    print(\"a no es menor que b o no es mayor que 1\")"
   ]
  },
  {
   "cell_type": "code",
   "execution_count": 18,
   "id": "d0f3b56c",
   "metadata": {},
   "outputs": [
    {
     "data": {
      "text/plain": [
       "True"
      ]
     },
     "execution_count": 18,
     "metadata": {},
     "output_type": "execute_result"
    }
   ],
   "source": [
    "# tabla de la verdad operador and\n",
    "# True and True = True\n",
    "# True and False = False\n",
    "# False and True = False\n",
    "# False and False = False\n",
    "True and True  # True"
   ]
  },
  {
   "cell_type": "code",
   "execution_count": 19,
   "id": "99345ac8",
   "metadata": {},
   "outputs": [
    {
     "name": "stdout",
     "output_type": "stream",
     "text": [
      "a no mayor que 1\n"
     ]
    }
   ],
   "source": [
    "# condicioneles compuestos\n",
    "\n",
    "# Condicional simple\n",
    "a = 0\n",
    "b = 10\n",
    "\n",
    "if (a < b):\n",
    "    if (a > 1):\n",
    "        print(\"a es menor que b y mayor que 1\")\n",
    "    else:\n",
    "        print(\"a no mayor que 1\")\n",
    "else:\n",
    "    print(\"a no es menor que b\")"
   ]
  },
  {
   "cell_type": "code",
   "execution_count": 20,
   "id": "b3238391",
   "metadata": {},
   "outputs": [
    {
     "ename": "ValueError",
     "evalue": "could not convert string to float: ''",
     "output_type": "error",
     "traceback": [
      "\u001b[31m---------------------------------------------------------------------------\u001b[39m",
      "\u001b[31mValueError\u001b[39m                                Traceback (most recent call last)",
      "\u001b[36mCell\u001b[39m\u001b[36m \u001b[39m\u001b[32mIn[20]\u001b[39m\u001b[32m, line 5\u001b[39m\n\u001b[32m      1\u001b[39m \u001b[38;5;66;03m# condicioneles compuestos\u001b[39;00m\n\u001b[32m      2\u001b[39m \n\u001b[32m      3\u001b[39m \u001b[38;5;66;03m# Condicional simple\u001b[39;00m\n\u001b[32m      4\u001b[39m a = \u001b[38;5;28minput\u001b[39m(\u001b[33m\"\u001b[39m\u001b[33mIngrese un valor para a: \u001b[39m\u001b[33m\"\u001b[39m)\n\u001b[32m----> \u001b[39m\u001b[32m5\u001b[39m a = \u001b[38;5;28;43mfloat\u001b[39;49m\u001b[43m(\u001b[49m\u001b[43ma\u001b[49m\u001b[43m)\u001b[49m  \u001b[38;5;66;03m# Convertir a entero\u001b[39;00m\n\u001b[32m      6\u001b[39m b = \u001b[38;5;28mfloat\u001b[39m(\u001b[38;5;28minput\u001b[39m(\u001b[33m\"\u001b[39m\u001b[33mIngrese un valor para b: \u001b[39m\u001b[33m\"\u001b[39m))  \u001b[38;5;66;03m# Convertir a entero\u001b[39;00m\n\u001b[32m      8\u001b[39m \u001b[38;5;28;01mif\u001b[39;00m (a < b):\n",
      "\u001b[31mValueError\u001b[39m: could not convert string to float: ''"
     ]
    }
   ],
   "source": [
    "# condicioneles compuestos\n",
    "\n",
    "# Condicional simple\n",
    "a = input(\"Ingrese un valor para a: \")\n",
    "a = float(a)  # Convertir a entero\n",
    "b = float(input(\"Ingrese un valor para b: \"))  # Convertir a entero\n",
    "\n",
    "if (a < b):\n",
    "    if (a > 1):\n",
    "        print(\"a es menor que b y mayor que 1\")\n",
    "    else:\n",
    "        print(\"a no es mayor que 1\")\n",
    "else:\n",
    "    print(\"a no es menor que b\")"
   ]
  },
  {
   "cell_type": "code",
   "execution_count": null,
   "id": "7271b2c4",
   "metadata": {},
   "outputs": [
    {
     "data": {
      "text/plain": [
       "str"
      ]
     },
     "execution_count": 8,
     "metadata": {},
     "output_type": "execute_result"
    }
   ],
   "source": [
    "type(a)  # Verifica el tipo de dato de a"
   ]
  },
  {
   "cell_type": "code",
   "execution_count": null,
   "id": "66a967fe",
   "metadata": {},
   "outputs": [
    {
     "data": {
      "text/plain": [
       "int"
      ]
     },
     "execution_count": 9,
     "metadata": {},
     "output_type": "execute_result"
    }
   ],
   "source": [
    "type(b)  "
   ]
  },
  {
   "cell_type": "code",
   "execution_count": 21,
   "id": "141272bd",
   "metadata": {},
   "outputs": [
    {
     "name": "stdout",
     "output_type": "stream",
     "text": [
      "es domingo de descanso\n"
     ]
    }
   ],
   "source": [
    "# condicioneles compuestos\n",
    "\n",
    "# jueves de lady night\n",
    "\n",
    "day = input(\"Ingrese el día de la semana: \")\n",
    "\n",
    "if day == \"jueves\":\n",
    "    print(\"Es jueves de lady night\")\n",
    "\n",
    "elif day == \"viernes\":\n",
    "    print(\"bebidas a mitad de precio\")\n",
    "\n",
    "elif day == \"sabado\":\n",
    "    print(\"es sábado de fiesta\")\n",
    "\n",
    "elif day == \"domingo\":\n",
    "    print(\"es domingo de descanso\")\n",
    "\n",
    "else:\n",
    "    print(\"No es fin de semana\")\n",
    "   "
   ]
  },
  {
   "cell_type": "markdown",
   "id": "4bb93ece",
   "metadata": {},
   "source": [
    "### Ciclos finitos"
   ]
  },
  {
   "cell_type": "code",
   "execution_count": 25,
   "id": "a24c09a5",
   "metadata": {},
   "outputs": [
    {
     "name": "stdout",
     "output_type": "stream",
     "text": [
      "Alice\n",
      "Bob\n",
      "Charlie\n"
     ]
    }
   ],
   "source": [
    "# ciclos finitos: for\n",
    "# lista de nombres venezolanos\n",
    "\n",
    "names = [\"Alice\", \"Bob\", \"Charlie\"]\n",
    "\n",
    "for name in names:\n",
    "    print(name)"
   ]
  },
  {
   "cell_type": "code",
   "execution_count": null,
   "id": "ed28324d",
   "metadata": {},
   "outputs": [
    {
     "name": "stdout",
     "output_type": "stream",
     "text": [
      "Encontré a Bob\n"
     ]
    }
   ],
   "source": [
    "# ciclos finitos: for\n",
    "# lista de nombres venezolanos\n",
    "\n",
    "names = [\"Alice\", \"Bob\", \"Charlie\"]\n",
    "\n",
    "for name in names:\n",
    "    name = name.lower()  # Convertir a mayúsculas\n",
    "    if name == \"bob\":\n",
    "        print(\"Encontré a bob\")"
   ]
  },
  {
   "cell_type": "code",
   "execution_count": 29,
   "id": "a437766e",
   "metadata": {},
   "outputs": [],
   "source": [
    "# listas en python\n",
    "# lista de nombres venezolanos\n",
    "\n",
    "names = [\"pedro\", \"juan\", \"maria\", \"luis\"]\n",
    "ages = [25, 30, 22, 28]\n",
    "peso = [60.5, 70.2, 55.0, 80.1]"
   ]
  },
  {
   "cell_type": "code",
   "execution_count": 30,
   "id": "79213040",
   "metadata": {},
   "outputs": [],
   "source": [
    "names2 = [\n",
    "    \"pedro\",\n",
    "    \"juan\",\n",
    "    \"maria\",\n",
    "    \"luis\"\n",
    "    ]"
   ]
  },
  {
   "cell_type": "code",
   "execution_count": 31,
   "id": "deb37de9",
   "metadata": {},
   "outputs": [],
   "source": [
    "#           0       1         2       3\n",
    "#         -4          -3       -2       -1 \n",
    "names = [\"pedro\", \"juan\", \"maria\", \"luis\"]"
   ]
  },
  {
   "cell_type": "code",
   "execution_count": 32,
   "id": "1bff0a9d",
   "metadata": {},
   "outputs": [
    {
     "data": {
      "text/plain": [
       "'pedro'"
      ]
     },
     "execution_count": 32,
     "metadata": {},
     "output_type": "execute_result"
    }
   ],
   "source": [
    "names[0]  # Acceso al primer elemento"
   ]
  },
  {
   "cell_type": "code",
   "execution_count": null,
   "id": "aa8c5fbc",
   "metadata": {},
   "outputs": [
    {
     "data": {
      "text/plain": [
       "['pedro', 'juan']"
      ]
     },
     "execution_count": 33,
     "metadata": {},
     "output_type": "execute_result"
    }
   ],
   "source": [
    "#  [start:end]\n",
    "#  [1:3] -> ['juan', 'maria']\n",
    "#  [0:3] -> [\"pedro\", \"juan\", \"maria\"]\n",
    "names[0:2]"
   ]
  },
  {
   "cell_type": "code",
   "execution_count": 36,
   "id": "6a08eb41",
   "metadata": {},
   "outputs": [
    {
     "data": {
      "text/plain": [
       "['juan', 'maria']"
      ]
     },
     "execution_count": 36,
     "metadata": {},
     "output_type": "execute_result"
    }
   ],
   "source": [
    "names[1:3]"
   ]
  },
  {
   "cell_type": "code",
   "execution_count": null,
   "id": "a69b0cbf",
   "metadata": {},
   "outputs": [
    {
     "data": {
      "text/plain": [
       "'u'"
      ]
     },
     "execution_count": 35,
     "metadata": {},
     "output_type": "execute_result"
    }
   ],
   "source": [
    "names[1]"
   ]
  },
  {
   "cell_type": "code",
   "execution_count": 37,
   "id": "8cd4380a",
   "metadata": {},
   "outputs": [],
   "source": [
    "name1 = names[1]  # Acceso al segundo elemento"
   ]
  },
  {
   "cell_type": "code",
   "execution_count": 39,
   "id": "12f8133b",
   "metadata": {},
   "outputs": [
    {
     "data": {
      "text/plain": [
       "'JUAN'"
      ]
     },
     "execution_count": 39,
     "metadata": {},
     "output_type": "execute_result"
    }
   ],
   "source": [
    "name1.upper()"
   ]
  },
  {
   "cell_type": "code",
   "execution_count": 1,
   "id": "bdb52a8b",
   "metadata": {},
   "outputs": [
    {
     "name": "stdout",
     "output_type": "stream",
     "text": [
      "Encontré a bob\n"
     ]
    }
   ],
   "source": [
    "# ciclo for para recorrer la lista de nombres y bucar a bob\n",
    "names = [\"Alice\", \"Bob\", \"Charlie\"]\n",
    "for name in names:\n",
    "    name = name.lower()  # Convertir a mayúsculas\n",
    "    if name == \"bob\":\n",
    "        print(\"Encontré a bob\")\n",
    "    # print(name)  # Descomentar para imprimir todos los nombres"
   ]
  },
  {
   "cell_type": "code",
   "execution_count": null,
   "id": "243db4da",
   "metadata": {},
   "outputs": [],
   "source": [
    "# Cadenas\n",
    "\n",
    "last_name = \"primero\"\n"
   ]
  },
  {
   "cell_type": "code",
   "execution_count": 5,
   "id": "96809c25",
   "metadata": {},
   "outputs": [
    {
     "data": {
      "text/plain": [
       "'prim'"
      ]
     },
     "execution_count": 5,
     "metadata": {},
     "output_type": "execute_result"
    }
   ],
   "source": [
    "last_name[:4]"
   ]
  },
  {
   "cell_type": "code",
   "execution_count": 6,
   "id": "a01e7f14",
   "metadata": {},
   "outputs": [],
   "source": [
    "list_of_names_age = [\"pedro\", \"juan\", \"maria\", \"luis\", 20, 30, 22, 28] "
   ]
  },
  {
   "cell_type": "code",
   "execution_count": 7,
   "id": "3853dc21",
   "metadata": {},
   "outputs": [
    {
     "data": {
      "text/plain": [
       "8"
      ]
     },
     "execution_count": 7,
     "metadata": {},
     "output_type": "execute_result"
    }
   ],
   "source": [
    "# iterando sobre una lista de nombres y edades\n",
    "# cantidad de elementos en la lista\n",
    "len(list_of_names_age)"
   ]
  },
  {
   "cell_type": "code",
   "execution_count": 11,
   "id": "8ecc2fcc",
   "metadata": {},
   "outputs": [
    {
     "data": {
      "text/plain": [
       "'pedro'"
      ]
     },
     "execution_count": 11,
     "metadata": {},
     "output_type": "execute_result"
    }
   ],
   "source": [
    "list_of_names_age[0]"
   ]
  },
  {
   "cell_type": "code",
   "execution_count": 13,
   "id": "35d66b1d",
   "metadata": {},
   "outputs": [
    {
     "name": "stdout",
     "output_type": "stream",
     "text": [
      "0\n",
      "1\n",
      "2\n",
      "3\n",
      "4\n",
      "5\n",
      "6\n",
      "7\n"
     ]
    }
   ],
   "source": [
    "cantidad_elementos = len(list_of_names_age)\n",
    "\n",
    "for item in range(cantidad_elementos):\n",
    "    print(item)"
   ]
  },
  {
   "cell_type": "code",
   "execution_count": 15,
   "id": "b83116b7",
   "metadata": {},
   "outputs": [
    {
     "name": "stdout",
     "output_type": "stream",
     "text": [
      "Encontré a luis en la posición 3\n"
     ]
    }
   ],
   "source": [
    "for item in range(len(list_of_names_age)):\n",
    "   # buscar el nombre de luis y su posición\n",
    "    if list_of_names_age[item] == \"luis\":\n",
    "        print(\"Encontré a luis en la posición\", item)"
   ]
  },
  {
   "cell_type": "code",
   "execution_count": 16,
   "id": "12d05c50",
   "metadata": {},
   "outputs": [
    {
     "name": "stdout",
     "output_type": "stream",
     "text": [
      "Encontré a luis en la posición 3\n"
     ]
    }
   ],
   "source": [
    "for item in range(len(list_of_names_age)):\n",
    "   # buscar el nombre de luis y su posición\n",
    "    if list_of_names_age[item] == \"luis\":\n",
    "        print(f\"Encontré a luis en la posición {item}\")"
   ]
  },
  {
   "cell_type": "code",
   "execution_count": null,
   "id": "130d2a45",
   "metadata": {},
   "outputs": [],
   "source": [
    "# Diccionarios en python\n",
    "# Un diccionario es una colección de pares clave-valor\n",
    "# Se define con llaves {}\n",
    "# Cada elemento se compone de una clave y un valor, separados por dos puntos (:)\n",
    "# Ejemplo de diccionario\n",
    "person = {\n",
    "    \"name\": \"John\",\n",
    "    \"age\": 30,\n",
    "    \"city\": \"New York\",\n",
    "}\n"
   ]
  },
  {
   "cell_type": "code",
   "execution_count": 20,
   "id": "9853ea6d",
   "metadata": {},
   "outputs": [
    {
     "name": "stdout",
     "output_type": "stream",
     "text": [
      "John\n",
      "30\n",
      "New York\n"
     ]
    }
   ],
   "source": [
    "print(person[\"name\"])  # Acceso al valor de la clave \"name\"\n",
    "print( person[\"age\"])  # Acceso al valor de la clave \"age\"\n",
    "print(person[\"city\"])  # Acceso al valor de la clave \"city\""
   ]
  },
  {
   "cell_type": "code",
   "execution_count": 22,
   "id": "a5645cb3",
   "metadata": {},
   "outputs": [
    {
     "name": "stdout",
     "output_type": "stream",
     "text": [
      "Nombre: John\n",
      "Edad: 30\n",
      "Ciudad: New York\n"
     ]
    }
   ],
   "source": [
    "print(f\"Nombre: {person[\"name\"]}\")  # Acceso al valor de la clave \"name\"\n",
    "print(f\"Edad: {person[\"age\"]}\")  # Acceso al valor de la clave \"age\"\n",
    "print(f\"Ciudad: {person[\"city\"]}\")  # Acceso al valor de la clave \"city\""
   ]
  },
  {
   "cell_type": "code",
   "execution_count": 23,
   "id": "db840160",
   "metadata": {},
   "outputs": [],
   "source": [
    "person.clear()"
   ]
  },
  {
   "cell_type": "code",
   "execution_count": 24,
   "id": "19642e7d",
   "metadata": {},
   "outputs": [
    {
     "data": {
      "text/plain": [
       "{}"
      ]
     },
     "execution_count": 24,
     "metadata": {},
     "output_type": "execute_result"
    }
   ],
   "source": [
    "person"
   ]
  },
  {
   "cell_type": "markdown",
   "id": "ea2b8a44",
   "metadata": {},
   "source": [
    "### Funciones"
   ]
  },
  {
   "cell_type": "code",
   "execution_count": 25,
   "id": "df2ab048",
   "metadata": {},
   "outputs": [],
   "source": [
    "def saludar():\n",
    "    print(\"¡Hola, mundo!\")"
   ]
  },
  {
   "cell_type": "code",
   "execution_count": 26,
   "id": "e8a21fd7",
   "metadata": {},
   "outputs": [
    {
     "name": "stdout",
     "output_type": "stream",
     "text": [
      "¡Hola, mundo!\n"
     ]
    }
   ],
   "source": [
    "saludar()"
   ]
  },
  {
   "cell_type": "code",
   "execution_count": 27,
   "id": "20c061e8",
   "metadata": {},
   "outputs": [],
   "source": [
    "# funcion para saludar a una persona\n",
    "def saludar_persona(nombre):\n",
    "    print(f\"¡Hola, {nombre}!\")"
   ]
  },
  {
   "cell_type": "code",
   "execution_count": 28,
   "id": "4b8e73f6",
   "metadata": {},
   "outputs": [
    {
     "name": "stdout",
     "output_type": "stream",
     "text": [
      "¡Hola, Pedro!\n"
     ]
    }
   ],
   "source": [
    "saludar_persona(\"Pedro\")  "
   ]
  },
  {
   "cell_type": "code",
   "execution_count": 29,
   "id": "9b345d1a",
   "metadata": {},
   "outputs": [],
   "source": [
    "# saludar a una persona por su nombre y su apellido\n",
    "def saludar_persona_completo(nombre, apellido):\n",
    "    print(f\"¡Hola, {nombre} {apellido}!\")"
   ]
  },
  {
   "cell_type": "code",
   "execution_count": 30,
   "id": "d74d1cd3",
   "metadata": {},
   "outputs": [
    {
     "name": "stdout",
     "output_type": "stream",
     "text": [
      "¡Hola, Pedro Gómez!\n"
     ]
    }
   ],
   "source": [
    "saludar_persona_completo(\"Pedro\", \"Gómez\")"
   ]
  },
  {
   "cell_type": "code",
   "execution_count": 31,
   "id": "deab7122",
   "metadata": {},
   "outputs": [
    {
     "name": "stdout",
     "output_type": "stream",
     "text": [
      "¡Hola, Lopez Jose!\n"
     ]
    }
   ],
   "source": [
    "saludar_persona_completo(\"Lopez\", \"Jose\")  # Esto generará un error porque falta el apellido"
   ]
  },
  {
   "cell_type": "code",
   "execution_count": 32,
   "id": "69713291",
   "metadata": {},
   "outputs": [
    {
     "ename": "TypeError",
     "evalue": "saludar_persona_completo() missing 1 required positional argument: 'apellido'",
     "output_type": "error",
     "traceback": [
      "\u001b[31m---------------------------------------------------------------------------\u001b[39m",
      "\u001b[31mTypeError\u001b[39m                                 Traceback (most recent call last)",
      "\u001b[36mCell\u001b[39m\u001b[36m \u001b[39m\u001b[32mIn[32]\u001b[39m\u001b[32m, line 1\u001b[39m\n\u001b[32m----> \u001b[39m\u001b[32m1\u001b[39m \u001b[43msaludar_persona_completo\u001b[49m\u001b[43m(\u001b[49m\u001b[33;43m\"\u001b[39;49m\u001b[33;43mjose\u001b[39;49m\u001b[33;43m\"\u001b[39;49m\u001b[43m)\u001b[49m\n",
      "\u001b[31mTypeError\u001b[39m: saludar_persona_completo() missing 1 required positional argument: 'apellido'"
     ]
    }
   ],
   "source": [
    "saludar_persona_completo(\"jose\")"
   ]
  },
  {
   "cell_type": "code",
   "execution_count": 33,
   "id": "80b6c991",
   "metadata": {},
   "outputs": [],
   "source": [
    "# saludar a una persona por su nombre y su apellido\n",
    "def saludar_persona_completo2(nombre=\"Fulano\", apellido=\"D'tal\"):\n",
    "    print(f\"¡Hola, {nombre} {apellido}!\")"
   ]
  },
  {
   "cell_type": "code",
   "execution_count": 34,
   "id": "237a740e",
   "metadata": {},
   "outputs": [
    {
     "name": "stdout",
     "output_type": "stream",
     "text": [
      "¡Hola, Pedro D'tal!\n"
     ]
    }
   ],
   "source": [
    "saludar_persona_completo2(\"Pedro\")"
   ]
  },
  {
   "cell_type": "code",
   "execution_count": 35,
   "id": "b3f4c93d",
   "metadata": {},
   "outputs": [
    {
     "name": "stdout",
     "output_type": "stream",
     "text": [
      "¡Hola, Gomez D'tal!\n"
     ]
    }
   ],
   "source": [
    "saludar_persona_completo2('Gomez')"
   ]
  },
  {
   "cell_type": "code",
   "execution_count": 36,
   "id": "6c1c6ed0",
   "metadata": {},
   "outputs": [
    {
     "name": "stdout",
     "output_type": "stream",
     "text": [
      "¡Hola, Fulano Gomez!\n"
     ]
    }
   ],
   "source": [
    "saludar_persona_completo2(apellido=\"Gomez\")"
   ]
  },
  {
   "cell_type": "code",
   "execution_count": 37,
   "id": "f2110b44",
   "metadata": {},
   "outputs": [
    {
     "name": "stdout",
     "output_type": "stream",
     "text": [
      "¡Hola, Pedro Gomez!\n"
     ]
    }
   ],
   "source": [
    "saludar_persona_completo2(apellido=\"Gomez\", nombre=\"Pedro\")"
   ]
  },
  {
   "cell_type": "code",
   "execution_count": null,
   "id": "ef004d55",
   "metadata": {},
   "outputs": [],
   "source": []
  }
 ],
 "metadata": {
  "kernelspec": {
   "display_name": ".venv (3.12.3)",
   "language": "python",
   "name": "python3"
  },
  "language_info": {
   "codemirror_mode": {
    "name": "ipython",
    "version": 3
   },
   "file_extension": ".py",
   "mimetype": "text/x-python",
   "name": "python",
   "nbconvert_exporter": "python",
   "pygments_lexer": "ipython3",
   "version": "3.12.3"
  }
 },
 "nbformat": 4,
 "nbformat_minor": 5
}
